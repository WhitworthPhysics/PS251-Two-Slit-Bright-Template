{
  "nbformat": 4,
  "nbformat_minor": 0,
  "metadata": {
    "colab": {
      "name": "Two Slit Bright Light.ipynb",
      "provenance": [],
      "authorship_tag": "ABX9TyN1E4iDJZ3df5VHYfaiQh65"
    },
    "kernelspec": {
      "name": "python3",
      "display_name": "Python 3"
    },
    "language_info": {
      "name": "python"
    }
  },
  "cells": [
    {
      "cell_type": "markdown",
      "metadata": {
        "id": "_EBHWIU53cMp"
      },
      "source": [
        "Partner:\n",
        "\n",
        "Date:"
      ]
    },
    {
      "cell_type": "markdown",
      "metadata": {
        "id": "rvWHD8mi3fk2"
      },
      "source": [
        "# Objectives\n",
        "* To measure both of the slit widths in the double slit slide using\n",
        "their respective single-slit diffraction patterns.\n",
        "* To determine the laser wavelength using by fitting the Fraunhofer\n",
        "model for two-slit interference to the observed intensity pattern.\n"
      ]
    },
    {
      "cell_type": "markdown",
      "metadata": {
        "id": "RhF7QGg_3vCp"
      },
      "source": [
        "# Install and import libraries"
      ]
    },
    {
      "cell_type": "code",
      "metadata": {
        "id": "WubCoyfR3Z13"
      },
      "source": [
        "!pip install whit-phys-util"
      ],
      "execution_count": null,
      "outputs": []
    },
    {
      "cell_type": "code",
      "metadata": {
        "id": "z71tvh4S3zuM"
      },
      "source": [
        "import numpy as np\n",
        "import pandas as pd\n",
        "import matplotlib.pyplot as plt\n",
        "from scipy.optimize import curve_fit\n",
        "import whit_phys_util as buc"
      ],
      "execution_count": null,
      "outputs": []
    },
    {
      "cell_type": "markdown",
      "metadata": {
        "id": "8ITZg-fK31iu"
      },
      "source": [
        "# Connect to GitHub"
      ]
    },
    {
      "cell_type": "code",
      "metadata": {
        "id": "ZJpw8lT64Blb"
      },
      "source": [
        "repo = buc.local_repository(\"replace me\")"
      ],
      "execution_count": null,
      "outputs": []
    },
    {
      "cell_type": "markdown",
      "metadata": {
        "id": "0K4rOfR44Cn_"
      },
      "source": [
        "# Equipment\n",
        "\n",
        "| Description | Manufacturer | Model | ID or SN |\n",
        "| ----------- | ------------ | ----- | -------- |\n",
        "| Two-slit interference, one-photon-at-a-time apparatus | TeachSpin | fill in | fill in |\n",
        "| multimeter | Fluke | fill in | fill in |\n"
      ]
    },
    {
      "cell_type": "code",
      "metadata": {
        "id": "OoSdAdXz4Y-X"
      },
      "source": [
        ""
      ],
      "execution_count": null,
      "outputs": []
    }
  ]
}